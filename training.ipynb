{
 "cells": [
  {
   "cell_type": "code",
   "execution_count": 1,
   "metadata": {},
   "outputs": [],
   "source": [
    "import cv2\n",
    "import matplotlib.pyplot as plt\n",
    "import pandas as pd\n",
    "import numpy as np\n",
    "from glob import glob\n",
    "import time\n",
    "import copy\n",
    "\n",
    "from tqdm import tqdm_notebook as tq\n",
    "from mobilenetv3_pytorch import mobilenetv3\n",
    "\n",
    "import torch\n",
    "import torch.nn as nn\n",
    "import torch.nn.functional as F\n",
    "from torch.utils.data import DataLoader, SubsetRandomSampler\n",
    "from torch import optim\n",
    "from torch.quantization import convert\n",
    "from torch.optim.lr_scheduler import MultiStepLR\n",
    "from torch.utils.tensorboard import SummaryWriter\n",
    "from torchvision import datasets, transforms, utils\n",
    "\n",
    "import os\n",
    "\n",
    "%matplotlib inline"
   ]
  },
  {
   "cell_type": "code",
   "execution_count": 2,
   "metadata": {},
   "outputs": [],
   "source": [
    "# !pip3 install --user facenet-pytorch"
   ]
  },
  {
   "cell_type": "code",
   "execution_count": 3,
   "metadata": {},
   "outputs": [],
   "source": [
    "from facenet_pytorch import MTCNN"
   ]
  },
  {
   "cell_type": "code",
   "execution_count": 4,
   "metadata": {},
   "outputs": [
    {
     "name": "stdout",
     "output_type": "stream",
     "text": [
      "Running on device: cuda:0\n"
     ]
    }
   ],
   "source": [
    "device = torch.device('cuda:0' if torch.cuda.is_available() else 'cpu')\n",
    "# device = torch.device('cpu')\n",
    "print('Running on device: {}'.format(device))"
   ]
  },
  {
   "cell_type": "code",
   "execution_count": 5,
   "metadata": {},
   "outputs": [],
   "source": [
    "root = 'MeGlass_120x120'\n",
    "data_dir = 'MeGlass_faces'\n",
    "\n",
    "batch_size = 128\n",
    "epochs = 8\n",
    "workers = 8\n",
    "\n",
    "glasses_images_paths = glob(f\"{root}/glasses/*.jpg\")\n",
    "no_glasses_images_paths = glob(f\"{root}/no_glasses/*.jpg\")"
   ]
  },
  {
   "cell_type": "code",
   "execution_count": 6,
   "metadata": {},
   "outputs": [
    {
     "data": {
      "application/vnd.jupyter.widget-view+json": {
       "model_id": "f2477ebdaf054fdf83c547250b6723fd",
       "version_major": 2,
       "version_minor": 0
      },
      "text/plain": [
       "HBox(children=(IntProgress(value=0, max=14832), HTML(value='')))"
      ]
     },
     "metadata": {},
     "output_type": "display_data"
    },
    {
     "name": "stdout",
     "output_type": "stream",
     "text": [
      "\n"
     ]
    },
    {
     "data": {
      "application/vnd.jupyter.widget-view+json": {
       "model_id": "7736fe55043a4a0a9be5c55a3da5a8f8",
       "version_major": 2,
       "version_minor": 0
      },
      "text/plain": [
       "HBox(children=(IntProgress(value=0, max=33085), HTML(value='')))"
      ]
     },
     "metadata": {},
     "output_type": "display_data"
    },
    {
     "name": "stdout",
     "output_type": "stream",
     "text": [
      "\n",
      "CPU times: user 32min 26s, sys: 17.3 s, total: 32min 43s\n",
      "Wall time: 8min 59s\n"
     ]
    }
   ],
   "source": [
    "%%time\n",
    "mtcnn = MTCNN(128, device=device)\n",
    "\n",
    "for p in tq(glasses_images_paths):\n",
    "    image_id = p.split('/')[-1]\n",
    "    image = cv2.imread(p)\n",
    "    mtcnn(image, save_path=f\"{data_dir}/glasses/{image_id}\")\n",
    "\n",
    "for p in tq(no_glasses_images_paths):\n",
    "    image_id = p.split('/')[-1]\n",
    "    image = cv2.imread(p)\n",
    "    mtcnn(image, save_path=f\"{data_dir}/no_glasses/{image_id}\")\n",
    "\n",
    "del mtcnn"
   ]
  },
  {
   "cell_type": "code",
   "execution_count": 7,
   "metadata": {},
   "outputs": [],
   "source": [
    "tr = transforms.Compose([\n",
    "    transforms.Resize((128, 128)),\n",
    "    transforms.RandomHorizontalFlip(),\n",
    "    transforms.ToTensor(),\n",
    "    transforms.Normalize(\n",
    "        mean=[0.485, 0.456, 0.406],\n",
    "        std=[0.229, 0.224, 0.225]),\n",
    "    ])\n",
    "data = datasets.ImageFolder(data_dir, transform=tr)"
   ]
  },
  {
   "cell_type": "code",
   "execution_count": 8,
   "metadata": {},
   "outputs": [],
   "source": [
    "img_inds = np.arange(len(data))\n",
    "np.random.shuffle(img_inds)\n",
    "\n",
    "train_inds = img_inds[:int(0.8 * len(img_inds))]\n",
    "val_inds = img_inds[int(0.8 * len(img_inds)):]\n",
    "\n",
    "train_loader = DataLoader(\n",
    "    data,\n",
    "    num_workers=workers,\n",
    "    batch_size=batch_size,\n",
    "    sampler=SubsetRandomSampler(train_inds)\n",
    ")\n",
    "val_loader = DataLoader(\n",
    "    data,\n",
    "    num_workers=workers,\n",
    "    batch_size=batch_size,\n",
    "    sampler=SubsetRandomSampler(val_inds)\n",
    ")\n",
    "\n",
    "dataloaders = {\n",
    "    'train' : train_loader,\n",
    "    'val' : val_loader\n",
    "}\n",
    "\n",
    "dataset_sizes = {\n",
    "    'train' : len(train_inds),\n",
    "    'val' : len(val_inds)\n",
    "}\n",
    "\n",
    "class_names = data.classes"
   ]
  },
  {
   "cell_type": "code",
   "execution_count": 9,
   "metadata": {},
   "outputs": [],
   "source": [
    "net = mobilenetv3.mobilenetv3_small()\n",
    "\n",
    "mod = nn.Sequential(\n",
    "    net.features[:10],\n",
    "    net.conv,\n",
    "    net.avgpool,\n",
    "    nn.Flatten(),\n",
    "    nn.Linear(in_features=576, out_features=2)\n",
    ")\n",
    "\n",
    "# mod.load_state_dict(torch.load('best.pth'))\n",
    "mod.to(device)\n",
    "\n",
    "optimizer = optim.SGD(mod.parameters(), lr=0.01, momentum=0.9)\n",
    "scheduler = optim.lr_scheduler.StepLR(optimizer, step_size=7, gamma=0.1)\n",
    "loss_fn = nn.CrossEntropyLoss()"
   ]
  },
  {
   "cell_type": "code",
   "execution_count": 10,
   "metadata": {},
   "outputs": [],
   "source": [
    "def train_model(model, criterion, optimizer, scheduler, num_epochs=10):\n",
    "    since = time.time()\n",
    "\n",
    "    best_model_wts = copy.deepcopy(model.state_dict())\n",
    "    best_acc = 0.0\n",
    "\n",
    "    for epoch in range(num_epochs):\n",
    "        print('Epoch {}/{}'.format(epoch, num_epochs - 1))\n",
    "        print('-' * 10)\n",
    "\n",
    "        for phase in ['train', 'val']:\n",
    "            if phase == 'train':\n",
    "                model.train()\n",
    "            else:\n",
    "                model.eval()\n",
    "\n",
    "            running_loss = 0.0\n",
    "            running_corrects = 0\n",
    "\n",
    "            for inputs, labels in dataloaders[phase]:\n",
    "                inputs = inputs.to(device)\n",
    "                labels = labels.to(device)\n",
    "                \n",
    "                optimizer.zero_grad()\n",
    "\n",
    "                with torch.set_grad_enabled(phase == 'train'):\n",
    "                    outputs = model(inputs)\n",
    "                    _, preds = torch.max(outputs, 1)\n",
    "                    \n",
    "                    loss = criterion(outputs, labels)\n",
    "\n",
    "                    if phase == 'train':\n",
    "                        loss.backward()\n",
    "                        optimizer.step()\n",
    "\n",
    "                running_loss += loss.item() * inputs.size(0)\n",
    "                running_corrects += torch.sum(preds == labels)\n",
    "            if phase == 'train':\n",
    "                scheduler.step()\n",
    "\n",
    "            epoch_loss = running_loss / dataset_sizes[phase]\n",
    "            epoch_acc = running_corrects.double() / dataset_sizes[phase]\n",
    "\n",
    "            print(f\"{phase} Loss: {epoch_loss:.4f} Acc: {epoch_acc:.4f}\")\n",
    "\n",
    "            if phase == 'val' and epoch_acc > best_acc:\n",
    "                best_acc = epoch_acc\n",
    "                best_model_wts = copy.deepcopy(model.state_dict())\n",
    "\n",
    "        print()\n",
    "\n",
    "    time_elapsed = time.time() - since\n",
    "    print(f\"Training completed in {time_elapsed // 60:.0f}m {time_elapsed % 60:.0f}s\")\n",
    "    \n",
    "    print(f\"Best val Acc: {best_acc:4f}\")\n",
    "\n",
    "    model.load_state_dict(best_model_wts)\n",
    "    return model"
   ]
  },
  {
   "cell_type": "code",
   "execution_count": 11,
   "metadata": {},
   "outputs": [
    {
     "name": "stdout",
     "output_type": "stream",
     "text": [
      "Epoch 0/9\n",
      "----------\n",
      "train Loss: 0.1722 Acc: 0.9320\n",
      "val Loss: 0.0341 Acc: 0.9902\n",
      "\n",
      "Epoch 1/9\n",
      "----------\n",
      "train Loss: 0.0217 Acc: 0.9945\n",
      "val Loss: 0.0179 Acc: 0.9946\n",
      "\n",
      "Epoch 2/9\n",
      "----------\n",
      "train Loss: 0.0151 Acc: 0.9958\n",
      "val Loss: 0.0129 Acc: 0.9960\n",
      "\n",
      "Epoch 3/9\n",
      "----------\n",
      "train Loss: 0.0098 Acc: 0.9976\n",
      "val Loss: 0.0115 Acc: 0.9960\n",
      "\n",
      "Epoch 4/9\n",
      "----------\n",
      "train Loss: 0.0084 Acc: 0.9976\n",
      "val Loss: 0.0110 Acc: 0.9968\n",
      "\n",
      "Epoch 5/9\n",
      "----------\n",
      "train Loss: 0.0069 Acc: 0.9983\n",
      "val Loss: 0.0126 Acc: 0.9964\n",
      "\n",
      "Epoch 6/9\n",
      "----------\n",
      "train Loss: 0.0053 Acc: 0.9986\n",
      "val Loss: 0.0114 Acc: 0.9969\n",
      "\n",
      "Epoch 7/9\n",
      "----------\n",
      "train Loss: 0.0039 Acc: 0.9988\n",
      "val Loss: 0.0108 Acc: 0.9971\n",
      "\n",
      "Epoch 8/9\n",
      "----------\n",
      "train Loss: 0.0027 Acc: 0.9994\n",
      "val Loss: 0.0103 Acc: 0.9970\n",
      "\n",
      "Epoch 9/9\n",
      "----------\n",
      "train Loss: 0.0025 Acc: 0.9995\n",
      "val Loss: 0.0096 Acc: 0.9971\n",
      "\n",
      "Training completed in 2m 2s\n",
      "Best val Acc: 0.997127\n"
     ]
    }
   ],
   "source": [
    "best_model = train_model(mod, loss_fn, optimizer, scheduler, num_epochs=10)"
   ]
  },
  {
   "cell_type": "code",
   "execution_count": 12,
   "metadata": {},
   "outputs": [],
   "source": [
    "best_model.cpu()\n",
    "\n",
    "torch.save(best_model.state_dict(), 'best.pth')"
   ]
  },
  {
   "cell_type": "code",
   "execution_count": 13,
   "metadata": {},
   "outputs": [
    {
     "name": "stdout",
     "output_type": "stream",
     "text": [
      "2,0M\tbest.pth\r\n"
     ]
    }
   ],
   "source": [
    "!du -sh best.pth"
   ]
  }
 ],
 "metadata": {
  "kernelspec": {
   "display_name": "Python 3",
   "language": "python",
   "name": "python3"
  },
  "language_info": {
   "codemirror_mode": {
    "name": "ipython",
    "version": 3
   },
   "file_extension": ".py",
   "mimetype": "text/x-python",
   "name": "python",
   "nbconvert_exporter": "python",
   "pygments_lexer": "ipython3",
   "version": "3.6.9"
  }
 },
 "nbformat": 4,
 "nbformat_minor": 2
}
